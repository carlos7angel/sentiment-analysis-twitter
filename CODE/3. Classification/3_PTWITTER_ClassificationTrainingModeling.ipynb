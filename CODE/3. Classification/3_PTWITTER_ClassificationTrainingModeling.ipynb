{
  "nbformat": 4,
  "nbformat_minor": 0,
  "metadata": {
    "colab": {
      "name": "3-PTWITTER-ClassificationTrainingModeling.ipynb",
      "provenance": [],
      "collapsed_sections": []
    },
    "kernelspec": {
      "name": "python3",
      "display_name": "Python 3"
    },
    "language_info": {
      "name": "python"
    }
  },
  "cells": [
    {
      "cell_type": "markdown",
      "metadata": {
        "id": "dlhLn74QQxs9"
      },
      "source": [
        "# **1. CLASIFICACIÓN MEDIANTE MODELO/ENTRENAMIENTO**"
      ]
    },
    {
      "cell_type": "code",
      "metadata": {
        "colab": {
          "base_uri": "https://localhost:8080/"
        },
        "id": "vbF7LbCRCE5n",
        "outputId": "c8671f98-26ff-4404-d5c8-e7c48dd466e9"
      },
      "source": [
        "import csv\n",
        "import re\n",
        "import pandas as pd\n",
        "import numpy as np\n",
        "import nltk\n",
        "from nltk import TweetTokenizer\n",
        "from nltk.stem import SnowballStemmer\n",
        "from nltk.corpus import stopwords\n",
        "nltk.download('stopwords')\n",
        "\n",
        "import matplotlib.pyplot as plt\n",
        "\n",
        "from sklearn.feature_extraction.text import TfidfVectorizer\n",
        "from sklearn.model_selection import GridSearchCV, StratifiedKFold\n",
        "from sklearn.pipeline import Pipeline, FeatureUnion\n",
        "from sklearn.naive_bayes import MultinomialNB\n",
        "from sklearn.svm import LinearSVC\n",
        "from sklearn.tree import DecisionTreeClassifier\n",
        "from sklearn.linear_model import LogisticRegression\n",
        "\n",
        "from sklearn.model_selection import train_test_split\n",
        "from sklearn.feature_selection import VarianceThreshold, SelectKBest, mutual_info_classif, chi2, f_classif\n",
        "from sklearn.metrics import classification_report, accuracy_score"
      ],
      "execution_count": 116,
      "outputs": [
        {
          "output_type": "stream",
          "name": "stdout",
          "text": [
            "[nltk_data] Downloading package stopwords to /root/nltk_data...\n",
            "[nltk_data]   Package stopwords is already up-to-date!\n"
          ]
        }
      ]
    },
    {
      "cell_type": "code",
      "metadata": {
        "colab": {
          "base_uri": "https://localhost:8080/",
          "height": 307
        },
        "id": "8zYrBTjBpBPi",
        "outputId": "d2c9022d-aac6-40eb-f138-22ed014ca37b"
      },
      "source": [
        "# Importamos el Dataset o corpus de entrenamiento con el label \"sentimiento\"\n",
        "dataset = pd.read_csv('1-manualDataset1.csv', encoding = \"utf-8\")\n",
        "print(dataset.shape)\n",
        "dataset.head()"
      ],
      "execution_count": 2,
      "outputs": [
        {
          "output_type": "stream",
          "name": "stdout",
          "text": [
            "(2136, 10)\n"
          ]
        },
        {
          "output_type": "execute_result",
          "data": {
            "text/html": [
              "<div>\n",
              "<style scoped>\n",
              "    .dataframe tbody tr th:only-of-type {\n",
              "        vertical-align: middle;\n",
              "    }\n",
              "\n",
              "    .dataframe tbody tr th {\n",
              "        vertical-align: top;\n",
              "    }\n",
              "\n",
              "    .dataframe thead th {\n",
              "        text-align: right;\n",
              "    }\n",
              "</style>\n",
              "<table border=\"1\" class=\"dataframe\">\n",
              "  <thead>\n",
              "    <tr style=\"text-align: right;\">\n",
              "      <th></th>\n",
              "      <th>id</th>\n",
              "      <th>date</th>\n",
              "      <th>user_displayname</th>\n",
              "      <th>user_followers_count</th>\n",
              "      <th>user_location</th>\n",
              "      <th>place_name</th>\n",
              "      <th>place_country</th>\n",
              "      <th>like_count</th>\n",
              "      <th>content</th>\n",
              "      <th>sentiment</th>\n",
              "    </tr>\n",
              "  </thead>\n",
              "  <tbody>\n",
              "    <tr>\n",
              "      <th>0</th>\n",
              "      <td>1453125238959529984</td>\n",
              "      <td>2021-10-26 22:23:49+00:00</td>\n",
              "      <td>José Rafael Vilar</td>\n",
              "      <td>671</td>\n",
              "      <td>Santa Cruz de la Sierra</td>\n",
              "      <td>NaN</td>\n",
              "      <td>NaN</td>\n",
              "      <td>0</td>\n",
              "      <td>Dosis llegadas hasta ayer: 15.076.036 dosis (S...</td>\n",
              "      <td>neu</td>\n",
              "    </tr>\n",
              "    <tr>\n",
              "      <th>1</th>\n",
              "      <td>1453061704103902976</td>\n",
              "      <td>2021-10-26 18:11:21+00:00</td>\n",
              "      <td>Dexanfetamina</td>\n",
              "      <td>1665</td>\n",
              "      <td>Santa Cruz de la Sierra</td>\n",
              "      <td>NaN</td>\n",
              "      <td>NaN</td>\n",
              "      <td>38</td>\n",
              "      <td>Me vacuné con la segunda de Sputnik y ya sient...</td>\n",
              "      <td>neu</td>\n",
              "    </tr>\n",
              "    <tr>\n",
              "      <th>2</th>\n",
              "      <td>1450468450384625920</td>\n",
              "      <td>2021-10-19 14:26:41+00:00</td>\n",
              "      <td>A Gonzalez Rioja</td>\n",
              "      <td>811</td>\n",
              "      <td>Bolivia</td>\n",
              "      <td>Bolivia</td>\n",
              "      <td>Bolivia</td>\n",
              "      <td>2</td>\n",
              "      <td>Nadie usa la vacuna #AstraZeneca como tercera ...</td>\n",
              "      <td>neg</td>\n",
              "    </tr>\n",
              "    <tr>\n",
              "      <th>3</th>\n",
              "      <td>1440850052121914880</td>\n",
              "      <td>2021-09-23 01:26:36+00:00</td>\n",
              "      <td>Gustavo Heredia</td>\n",
              "      <td>678</td>\n",
              "      <td>Aquí y ahora</td>\n",
              "      <td>Bolivia</td>\n",
              "      <td>Bolivia</td>\n",
              "      <td>2</td>\n",
              "      <td>Sputnik + bajación, mala combinación.   Dice l...</td>\n",
              "      <td>neg</td>\n",
              "    </tr>\n",
              "    <tr>\n",
              "      <th>4</th>\n",
              "      <td>1440745354081701888</td>\n",
              "      <td>2021-09-22 18:30:34+00:00</td>\n",
              "      <td>Luis Angulo</td>\n",
              "      <td>6</td>\n",
              "      <td>Cochabamba, Bolivia</td>\n",
              "      <td>Bolivia</td>\n",
              "      <td>Bolivia</td>\n",
              "      <td>1</td>\n",
              "      <td>@drhuerta hace días recién me vacunaron la 2da...</td>\n",
              "      <td>neu</td>\n",
              "    </tr>\n",
              "  </tbody>\n",
              "</table>\n",
              "</div>"
            ],
            "text/plain": [
              "                    id  ... sentiment\n",
              "0  1453125238959529984  ...       neu\n",
              "1  1453061704103902976  ...       neu\n",
              "2  1450468450384625920  ...       neg\n",
              "3  1440850052121914880  ...       neg\n",
              "4  1440745354081701888  ...       neu\n",
              "\n",
              "[5 rows x 10 columns]"
            ]
          },
          "metadata": {},
          "execution_count": 2
        }
      ]
    },
    {
      "cell_type": "code",
      "metadata": {
        "colab": {
          "base_uri": "https://localhost:8080/"
        },
        "id": "8XfDt60CpfiG",
        "outputId": "f60ad57b-e8c0-4373-9eb2-4776fe876c55"
      },
      "source": [
        "# Contamos los valores de sentimiento y nos aseguramos que no existan valores nulos\n",
        "dataset['sentiment'].value_counts()"
      ],
      "execution_count": 134,
      "outputs": [
        {
          "output_type": "execute_result",
          "data": {
            "text/plain": [
              "pos    859\n",
              "neg    652\n",
              "neu    625\n",
              "Name: sentiment, dtype: int64"
            ]
          },
          "metadata": {},
          "execution_count": 134
        }
      ]
    },
    {
      "cell_type": "code",
      "metadata": {
        "id": "nXqh5DDXCQMa"
      },
      "source": [
        "# Definimos nuestro dataset con datos iniciales para el entrenamiento\n",
        "X = dataset['content']\n",
        "y = dataset['sentiment']"
      ],
      "execution_count": 5,
      "outputs": []
    },
    {
      "cell_type": "markdown",
      "metadata": {
        "id": "ZymYB6Y4CYQV"
      },
      "source": [
        "# **PREPROCESAMIENTO**"
      ]
    },
    {
      "cell_type": "code",
      "metadata": {
        "id": "teHYmgqhXxFj"
      },
      "source": [
        "# Definimos una clase que servira para el preprocesamiento de mensajes de texto, con su función principal preprocess\n",
        "# Esta funcion realiza muchas funciones como: volver a minúsculas, eliminar tíldes, eliminar saltos de línea, traduce algunas jergas del español\n",
        "# Normaliza algunos textos como risas, hashtag, menciones, url, dependiendo de si queremos que realize esta función\n",
        "# Realiza el stemming el texto tokenizado\n",
        "class Preprocessor:\n",
        "\n",
        "    MENTION = 'twmention'\n",
        "    HASHTAG = 'twhashtag'\n",
        "    URL = 'twurl'\n",
        "    LAUGH = 'twlaugh'\n",
        "\n",
        "    DIACRITICAL_VOWELS = [('á','a'), ('é','e'), ('í','i'), ('ó','o'), ('ú','u'), ('ü','u')]\n",
        "    SLANG = [('d','de'), ('[qk]','que'), ('xo','pero'), ('xa', 'para'), ('[xp]q','porque'),('es[qk]', 'es que'),\n",
        "              ('fvr','favor'),('(xfa|xf|pf|plis|pls|porfa)', 'por favor'), ('dnd','donde'), ('tb', 'también'),\n",
        "              ('(tq|tk)', 'te quiero'), ('(tqm|tkm)', 'te quiero mucho'), ('x','por'), ('\\+','mas')]\n",
        "\n",
        "    _stemmer = SnowballStemmer('spanish')\n",
        "    _tokenizer = TweetTokenizer().tokenize\n",
        "\n",
        "    def __init__(self, twitter_features=None, stemming=False):\n",
        "        self._twitter_features = twitter_features\n",
        "        self._stemming = stemming\n",
        "\n",
        "    def preprocess(self, message):\n",
        "        # convertir a minúscula\n",
        "        message = message.lower()\n",
        "        # remover números, retornos de carro, saltos de línea y 'RT'\n",
        "        message = re.sub(r'(\\d+|\\n|\\brt\\b)', '', message)\n",
        "        # remover tíldes\n",
        "        for s,t in self.DIACRITICAL_VOWELS:\n",
        "            message = re.sub(r'{0}'.format(s), t, message)\n",
        "        # remover caracteres repetidos\n",
        "        message = re.sub(r'(.)\\1{2,}', r'\\1\\1', message)\n",
        "        # normalizar risas o carcajadas\n",
        "        message = self.normalize_laughs(message)\n",
        "        # traducir jerga\n",
        "        for s,t in self.SLANG:\n",
        "            message = re.sub(r'\\b{0}\\b'.format(s), t, message)\n",
        "\n",
        "        # aplicacamos la limpieza o normalizacion de hashtags, menciones o enlaces web\n",
        "        message = self.process_twitter_features(message, self._twitter_features)\n",
        "\n",
        "        # aplicamos el stemming de ser necesario al mensaje tokenizado\n",
        "        if self._stemming:\n",
        "            message = ' '.join(self._stemmer.stem(w) for w in self._tokenizer(message))\n",
        "\n",
        "        return message\n",
        "\n",
        "    @staticmethod\n",
        "    def process_twitter_features(message, twitter_features):\n",
        "        message = re.sub(r'[\\.\\,]http','. http', message, flags=re.IGNORECASE)\n",
        "        message = re.sub(r'[\\.\\,]#', '. #', message)\n",
        "        message = re.sub(r'[\\.\\,]@', '. @', message)\n",
        "\n",
        "        if twitter_features == 'remove':\n",
        "            # remueve menciones, hashtags and urls\n",
        "            message = re.sub(r'((?<=\\s)|(?<=\\A))(@|#)\\S+', '', message)\n",
        "            message = re.sub(r'\\b(https?:\\S+)\\b', '', message, flags=re.IGNORECASE)\n",
        "        elif twitter_features == 'normalize':\n",
        "            # normaliza menciones, hashtags and urls\n",
        "            message = re.sub(r'((?<=\\s)|(?<=\\A))@\\S+', Preprocessor.MENTION, message)\n",
        "            message = re.sub(r'((?<=\\s)|(?<=\\A))#\\S+', Preprocessor.HASHTAG, message)\n",
        "            message = re.sub(r'\\b(https?:\\S+)\\b', Preprocessor.URL, message, flags=re.IGNORECASE)\n",
        "\n",
        "        return message\n",
        "\n",
        "    @staticmethod\n",
        "    def normalize_laughs(message):\n",
        "        message = re.sub(r'\\b(?=\\w*[j])[aeiouj]{4,}\\b', Preprocessor.LAUGH, message, flags=re.IGNORECASE)\n",
        "        message = re.sub(r'\\b(juas+|lol)\\b', Preprocessor.LAUGH, message, flags=re.IGNORECASE)\n",
        "        return message\n",
        "\n",
        "    def __str__(self):\n",
        "        return \"Preprocessor([twitter_features={0}, stemming={1}])\".format(self._twitter_features, self._stemming)\n",
        "\n",
        "    def __repr__(self):\n",
        "        return \"Preprocessor([twitter_features={0}, stemming={1}])\".format(self._twitter_features, self._stemming)"
      ],
      "execution_count": 6,
      "outputs": []
    },
    {
      "cell_type": "code",
      "metadata": {
        "id": "1oiIcX5wCUFX"
      },
      "source": [
        "# Definimos algunas funciones para la búsqueda de la combinación del mejor modelo y sus parámetros\n",
        "\n",
        "# Definimos una variable que contenga palabras vacías (stop words) en idioma español\n",
        "spanish_stopwords = stopwords.words('spanish')"
      ],
      "execution_count": 7,
      "outputs": []
    },
    {
      "cell_type": "code",
      "metadata": {
        "id": "6P7L_cHRCVTO"
      },
      "source": [
        "# Definimos el Tokenizer para volver al texto en pequeñas unidades de token\n",
        "tokenizer = TweetTokenizer().tokenize"
      ],
      "execution_count": 8,
      "outputs": []
    },
    {
      "cell_type": "code",
      "metadata": {
        "id": "PcY3nIXjCd4m"
      },
      "source": [
        "# Definimos las funciones de ponderación TF & TF-IDF, y le pasamos la función de tokenización\n",
        "bow_tf = TfidfVectorizer(use_idf=False, tokenizer=tokenizer)\n",
        "bow_tfidf = TfidfVectorizer(use_idf=True, tokenizer=tokenizer)"
      ],
      "execution_count": 9,
      "outputs": []
    },
    {
      "cell_type": "code",
      "metadata": {
        "id": "8Txtm3ZrCpca"
      },
      "source": [
        "# Definimos la función de validación cruzada (cross validation) con 5 grupos de entrenamiento\n",
        "skfold = StratifiedKFold(n_splits=5, shuffle=True)"
      ],
      "execution_count": 13,
      "outputs": []
    },
    {
      "cell_type": "markdown",
      "metadata": {
        "id": "NL-LW90fDD6p"
      },
      "source": [
        "**Búsqueda del modelo para la clasificación**"
      ]
    },
    {
      "cell_type": "code",
      "metadata": {
        "id": "bTlIQYbLDA6F"
      },
      "source": [
        "# Definimos las métricas que queremos como resultado\n",
        "scoring = {'accuracy': 'accuracy',\n",
        "           'precision_macro': 'precision_macro',\n",
        "           'recall_macro': 'recall_macro',\n",
        "           'f1_macro': 'f1_macro',\n",
        "           'precision_micro': 'precision_micro',\n",
        "           'recall_micro': 'recall_micro',\n",
        "           'f1_micro': 'f1_micro',\n",
        "           'precision_weighted': 'precision_weighted',\n",
        "           'recall_weighted': 'recall_weighted',\n",
        "           'f1_weighted': 'f1_weighted'}"
      ],
      "execution_count": 46,
      "outputs": []
    },
    {
      "cell_type": "code",
      "metadata": {
        "id": "dOa4Jc6CDR8x"
      },
      "source": [
        "# Definimos el Pipeline\n",
        "pipeline = Pipeline([('vectorizer', None),\n",
        "                     ('classifier', None)])"
      ],
      "execution_count": 47,
      "outputs": []
    },
    {
      "cell_type": "code",
      "metadata": {
        "colab": {
          "base_uri": "https://localhost:8080/"
        },
        "id": "zYvep6lEDULn",
        "outputId": "37d9b7cf-3aa1-4b46-adff-445bb7c6a767"
      },
      "source": [
        "# Ejecutamos el Pipeline con los parámetros establecidos, y procedemos a la búsqueda de la mejor combinación\n",
        "# El resultado lo guardaremos en un archivo csv para su posterior análisis\n",
        "parameters = [{\n",
        "    'vectorizer': (bow_tf, \n",
        "                   bow_tfidf),\n",
        "    'vectorizer__preprocessor': (Preprocessor(twitter_features='remove',    stemming=True).preprocess,\n",
        "                                 Preprocessor(twitter_features='normalize', stemming=True).preprocess,\n",
        "                                 Preprocessor(twitter_features='remove',    stemming=False).preprocess,\n",
        "                                 Preprocessor(twitter_features='normalize', stemming=False).preprocess),\n",
        "    'vectorizer__stop_words': (spanish_stopwords, \n",
        "                               None),\n",
        "    'classifier': (MultinomialNB(), \n",
        "                   LinearSVC(), \n",
        "                   LogisticRegression(),\n",
        "                   DecisionTreeClassifier())\n",
        "}]\n",
        "grid_search = GridSearchCV(\n",
        "    pipeline, \n",
        "    param_grid=parameters, \n",
        "    n_jobs=-1, \n",
        "    cv=skfold, \n",
        "    verbose=5, \n",
        "    scoring=scoring,\n",
        "    refit='f1_weighted',\n",
        "    return_train_score=False)\n",
        "\n",
        "grid_search.fit(X, y)\n",
        "print(\"best_score:\", grid_search.best_score_)\n",
        "pd.DataFrame(grid_search.cv_results_).to_csv(path_or_buf='resultsBase.csv', quoting=csv.QUOTE_NONNUMERIC)"
      ],
      "execution_count": 48,
      "outputs": [
        {
          "output_type": "stream",
          "name": "stdout",
          "text": [
            "Fitting 5 folds for each of 64 candidates, totalling 320 fits\n",
            "best_score: 0.6860736295975548\n"
          ]
        }
      ]
    },
    {
      "cell_type": "markdown",
      "metadata": {
        "id": "S8pB4tZ6TBzZ"
      },
      "source": [
        "Después de esperar un periodo de tiempo donde se reliza la búsqueda de la mejor combinación para extraer un modelo que sea capaz de realizar la clasificación"
      ]
    },
    {
      "cell_type": "markdown",
      "metadata": {
        "id": "S9IGKL9ZDbPK"
      },
      "source": [
        "**RESULTADOS**"
      ]
    },
    {
      "cell_type": "code",
      "metadata": {
        "colab": {
          "base_uri": "https://localhost:8080/"
        },
        "id": "KIgzDbGYDdyX",
        "outputId": "4a2c13c6-bb21-44f7-ebfd-466b503bffd9"
      },
      "source": [
        "results = pd.read_csv('resultsBase.csv')"
      ],
      "execution_count": 49,
      "outputs": [
        {
          "output_type": "stream",
          "name": "stdout",
          "text": [
            "(64, 90)\n"
          ]
        }
      ]
    },
    {
      "cell_type": "code",
      "metadata": {
        "id": "Re7JgFK9DgI-",
        "colab": {
          "base_uri": "https://localhost:8080/"
        },
        "outputId": "5930f845-5b7b-4851-de3a-b68eba650cf5"
      },
      "source": [
        "mnb = results[0:16].sort_values('rank_test_f1_weighted')[:1].iloc[0]['rank_test_f1_weighted']\n",
        "svm = results[17:32].sort_values('rank_test_f1_weighted')[:1].iloc[0]['rank_test_f1_weighted']\n",
        "log = results[33:48].sort_values('rank_test_f1_weighted')[:1].iloc[0]['rank_test_f1_weighted']\n",
        "tre = results[49:64].sort_values('rank_test_f1_weighted')[:1].iloc[0]['rank_test_f1_weighted']"
      ],
      "execution_count": 66,
      "outputs": [
        {
          "output_type": "stream",
          "name": "stdout",
          "text": [
            "37\n"
          ]
        }
      ]
    },
    {
      "cell_type": "code",
      "metadata": {
        "colab": {
          "base_uri": "https://localhost:8080/",
          "height": 1000
        },
        "id": "WzgnM3_GJbZk",
        "outputId": "9638afc0-57cd-419c-c9dc-6ab982ec7d04"
      },
      "source": [
        "results.head(16)"
      ],
      "execution_count": 110,
      "outputs": [
        {
          "output_type": "execute_result",
          "data": {
            "text/html": [
              "<div>\n",
              "<style scoped>\n",
              "    .dataframe tbody tr th:only-of-type {\n",
              "        vertical-align: middle;\n",
              "    }\n",
              "\n",
              "    .dataframe tbody tr th {\n",
              "        vertical-align: top;\n",
              "    }\n",
              "\n",
              "    .dataframe thead th {\n",
              "        text-align: right;\n",
              "    }\n",
              "</style>\n",
              "<table border=\"1\" class=\"dataframe\">\n",
              "  <thead>\n",
              "    <tr style=\"text-align: right;\">\n",
              "      <th></th>\n",
              "      <th>Unnamed: 0</th>\n",
              "      <th>mean_fit_time</th>\n",
              "      <th>std_fit_time</th>\n",
              "      <th>mean_score_time</th>\n",
              "      <th>std_score_time</th>\n",
              "      <th>param_classifier</th>\n",
              "      <th>param_vectorizer</th>\n",
              "      <th>param_vectorizer__preprocessor</th>\n",
              "      <th>param_vectorizer__stop_words</th>\n",
              "      <th>params</th>\n",
              "      <th>split0_test_accuracy</th>\n",
              "      <th>split1_test_accuracy</th>\n",
              "      <th>split2_test_accuracy</th>\n",
              "      <th>split3_test_accuracy</th>\n",
              "      <th>split4_test_accuracy</th>\n",
              "      <th>mean_test_accuracy</th>\n",
              "      <th>std_test_accuracy</th>\n",
              "      <th>rank_test_accuracy</th>\n",
              "      <th>split0_test_precision_macro</th>\n",
              "      <th>split1_test_precision_macro</th>\n",
              "      <th>split2_test_precision_macro</th>\n",
              "      <th>split3_test_precision_macro</th>\n",
              "      <th>split4_test_precision_macro</th>\n",
              "      <th>mean_test_precision_macro</th>\n",
              "      <th>std_test_precision_macro</th>\n",
              "      <th>rank_test_precision_macro</th>\n",
              "      <th>split0_test_recall_macro</th>\n",
              "      <th>split1_test_recall_macro</th>\n",
              "      <th>split2_test_recall_macro</th>\n",
              "      <th>split3_test_recall_macro</th>\n",
              "      <th>split4_test_recall_macro</th>\n",
              "      <th>mean_test_recall_macro</th>\n",
              "      <th>std_test_recall_macro</th>\n",
              "      <th>rank_test_recall_macro</th>\n",
              "      <th>split0_test_f1_macro</th>\n",
              "      <th>split1_test_f1_macro</th>\n",
              "      <th>split2_test_f1_macro</th>\n",
              "      <th>split3_test_f1_macro</th>\n",
              "      <th>split4_test_f1_macro</th>\n",
              "      <th>mean_test_f1_macro</th>\n",
              "      <th>...</th>\n",
              "      <th>split0_test_recall_micro</th>\n",
              "      <th>split1_test_recall_micro</th>\n",
              "      <th>split2_test_recall_micro</th>\n",
              "      <th>split3_test_recall_micro</th>\n",
              "      <th>split4_test_recall_micro</th>\n",
              "      <th>mean_test_recall_micro</th>\n",
              "      <th>std_test_recall_micro</th>\n",
              "      <th>rank_test_recall_micro</th>\n",
              "      <th>split0_test_f1_micro</th>\n",
              "      <th>split1_test_f1_micro</th>\n",
              "      <th>split2_test_f1_micro</th>\n",
              "      <th>split3_test_f1_micro</th>\n",
              "      <th>split4_test_f1_micro</th>\n",
              "      <th>mean_test_f1_micro</th>\n",
              "      <th>std_test_f1_micro</th>\n",
              "      <th>rank_test_f1_micro</th>\n",
              "      <th>split0_test_precision_weighted</th>\n",
              "      <th>split1_test_precision_weighted</th>\n",
              "      <th>split2_test_precision_weighted</th>\n",
              "      <th>split3_test_precision_weighted</th>\n",
              "      <th>split4_test_precision_weighted</th>\n",
              "      <th>mean_test_precision_weighted</th>\n",
              "      <th>std_test_precision_weighted</th>\n",
              "      <th>rank_test_precision_weighted</th>\n",
              "      <th>split0_test_recall_weighted</th>\n",
              "      <th>split1_test_recall_weighted</th>\n",
              "      <th>split2_test_recall_weighted</th>\n",
              "      <th>split3_test_recall_weighted</th>\n",
              "      <th>split4_test_recall_weighted</th>\n",
              "      <th>mean_test_recall_weighted</th>\n",
              "      <th>std_test_recall_weighted</th>\n",
              "      <th>rank_test_recall_weighted</th>\n",
              "      <th>split0_test_f1_weighted</th>\n",
              "      <th>split1_test_f1_weighted</th>\n",
              "      <th>split2_test_f1_weighted</th>\n",
              "      <th>split3_test_f1_weighted</th>\n",
              "      <th>split4_test_f1_weighted</th>\n",
              "      <th>mean_test_f1_weighted</th>\n",
              "      <th>std_test_f1_weighted</th>\n",
              "      <th>rank_test_f1_weighted</th>\n",
              "    </tr>\n",
              "  </thead>\n",
              "  <tbody>\n",
              "    <tr>\n",
              "      <th>0</th>\n",
              "      <td>0</td>\n",
              "      <td>2.634989</td>\n",
              "      <td>0.024623</td>\n",
              "      <td>0.678511</td>\n",
              "      <td>0.011692</td>\n",
              "      <td>MultinomialNB()</td>\n",
              "      <td>TfidfVectorizer(tokenizer=&lt;bound method TweetTokenizer.tokenize of &lt;nltk.tokenize.casual.TweetTokenizer object at 0x7fb29c4ee850&gt;&gt;,\\n                use_idf=False)</td>\n",
              "      <td>&lt;bound method Preprocessor.preprocess of Preprocessor([twitter_features=remove, stemming=True])&gt;</td>\n",
              "      <td>['de', 'la', 'que', 'el', 'en', 'y', 'a', 'los', 'del', 'se', 'las', 'por', 'un', 'para', 'con', 'no', 'una', 'su', 'al', 'lo', 'como', 'más', 'pero', 'sus', 'le', 'ya', 'o', 'este', 'sí', 'porque', 'esta', 'entre', 'cuando', 'muy', 'sin', 'sobre', 'también', 'me', 'hasta', 'hay', 'donde', 'quien', 'desde', 'todo', 'nos', 'durante', 'todos', 'uno', 'les', 'ni', 'contra', 'otros', 'ese', 'eso', 'ante', 'ellos', 'e', 'esto', 'mí', 'antes', 'algunos', 'qué', 'unos', 'yo', 'otro', 'otras', 'otra', 'él', 'tanto', 'esa', 'estos', 'mucho', 'quienes', 'nada', 'muchos', 'cual', 'poco', 'ella', 'estar', 'estas', 'algunas', 'algo', 'nosotros', 'mi', 'mis', 'tú', 'te', 'ti', 'tu', 'tus', 'ellas', 'nosotras', 'vosotros', 'vosotras', 'os', 'mío', 'mía', 'míos', 'mías', 'tuyo', 'tuya', 'tuyos', 'tuyas', 'suyo', 'suya', 'suyos', 'suyas', 'nuestro', 'nuestra', 'nuestros', 'nuestras', 'vuestro', 'vuestra', 'vuestros', 'vuestras', 'esos', 'esas', 'estoy', 'estás', 'está', 'estamos', 'estáis', 'están', 'esté', 'estés', 'estemos', 'estéis', 'estén', 'estaré', 'estarás', 'estará', 'estaremos', 'estaréis', 'estarán', 'estaría', 'estarías', 'estaríamos', 'estaríais', 'estarían', 'estaba', 'estabas', 'estábamos', 'estabais', 'estaban', 'estuve', 'estuviste', 'estuvo', 'estuvimos', 'estuvisteis', 'estuvieron', 'estuviera', 'estuvieras', 'estuviéramos', 'estuvierais', 'estuvieran', 'estuviese', 'estuvieses', 'estuviésemos', 'estuvieseis', 'estuviesen', 'estando', 'estado', 'estada', 'estados', 'estadas', 'estad', 'he', 'has', 'ha', 'hemos', 'habéis', 'han', 'haya', 'hayas', 'hayamos', 'hayáis', 'hayan', 'habré', 'habrás', 'habrá', 'habremos', 'habréis', 'habrán', 'habría', 'habrías', 'habríamos', 'habríais', 'habrían', 'había', 'habías', 'habíamos', 'habíais', 'habían', 'hube', 'hubiste', 'hubo', 'hubimos', 'hubisteis', 'hubieron', 'hubiera', 'hubieras', 'hubiéramos', 'hubierais', 'hubieran', 'hubiese', 'hubieses', 'hubiésemos', 'hubieseis', 'hubiesen', 'habiendo', 'habido', 'habida', 'habidos', 'habidas', 'soy', 'eres', 'es', 'somos', 'sois', 'son', 'sea', 'seas', 'seamos', 'seáis', 'sean', 'seré', 'serás', 'será', 'seremos', 'seréis', 'serán', 'sería', 'serías', 'seríamos', 'seríais', 'serían', 'era', 'eras', 'éramos', 'erais', 'eran', 'fui', 'fuiste', 'fue', 'fuimos', 'fuisteis', 'fueron', 'fuera', 'fueras', 'fuéramos', 'fuerais', 'fueran', 'fuese', 'fueses', 'fuésemos', 'fueseis', 'fuesen', 'sintiendo', 'sentido', 'sentida', 'sentidos', 'sentidas', 'siente', 'sentid', 'tengo', 'tienes', 'tiene', 'tenemos', 'tenéis', 'tienen', 'tenga', 'tengas', 'tengamos', 'tengáis', 'tengan', 'tendré', 'tendrás', 'tendrá', 'tendremos', 'tendréis', 'tendrán', 'tendría', 'tendrías', 'tendríamos', 'tendríais', 'tendrían', 'tenía', 'tenías', 'teníamos', 'teníais', 'tenían', 'tuve', 'tuviste', 'tuvo', 'tuvimos', 'tuvisteis', 'tuvieron', 'tuviera', 'tuvieras', 'tuviéramos', 'tuvierais', 'tuvieran', 'tuviese', 'tuvieses', 'tuviésemos', 'tuvieseis', 'tuviesen', 'teniendo', 'tenido', 'tenida', 'tenidos', 'tenidas', 'tened']</td>\n",
              "      <td>{'classifier': MultinomialNB(), 'vectorizer': TfidfVectorizer(tokenizer=&lt;bound method TweetTokenizer.tokenize of &lt;nltk.tokenize.casual.TweetTokenizer object at 0x7fb29c4ee850&gt;&gt;,\\n                use_idf=False), 'vectorizer__preprocessor': &lt;bound method Preprocessor.preprocess of Preprocessor([twitter_features=remove, stemming=True])&gt;, 'vectorizer__stop_words': ['de', 'la', 'que', 'el', 'en', 'y', 'a', 'los', 'del', 'se', 'las', 'por', 'un', 'para', 'con', 'no', 'una', 'su', 'al', 'lo', 'como', 'más', 'pero', 'sus', 'le', 'ya', 'o', 'este', 'sí', 'porque', 'esta', 'entre', 'cuando', 'muy', 'sin', 'sobre', 'también', 'me', 'hasta', 'hay', 'donde', 'quien', 'desde', 'todo', 'nos', 'durante', 'todos', 'uno', 'les', 'ni', 'contra', 'otros', 'ese', 'eso', 'ante', 'ellos', 'e', 'esto', 'mí', 'antes', 'algunos', 'qué', 'unos', 'yo', 'otro', 'otras', 'otra', 'él', 'tanto', 'esa', 'estos', 'mucho', 'quienes', 'nada', 'muchos', 'cual', 'poco', 'ella', 'estar', 'estas', 'algunas', 'algo', 'nosotros', 'mi', 'mis', 'tú', 'te', 'ti', 'tu', 'tus', 'ellas', 'nosotras', 'vosotros', 'vosotras', 'os', 'mío', 'mía', 'míos', 'mías', 'tuyo', 'tuya', 'tuyos', 'tuyas', 'suyo', 'suya', 'suyos', 'suyas', 'nuestro', 'nuestra', 'nuestros', 'nuestras', 'vuestro', 'vuestra', 'vuestros', 'vuestras', 'esos', 'esas', 'estoy', 'estás', 'está', 'estamos', 'estáis', 'están', 'esté', 'estés', 'estemos', 'estéis', 'estén', 'estaré', 'estarás', 'estará', 'estaremos', 'estaréis', 'estarán', 'estaría', 'estarías', 'estaríamos', 'estaríais', 'estarían', 'estaba', 'estabas', 'estábamos', 'estabais', 'estaban', 'estuve', 'estuviste', 'estuvo', 'estuvimos', 'estuvisteis', 'estuvieron', 'estuviera', 'estuvieras', 'estuviéramos', 'estuvierais', 'estuvieran', 'estuviese', 'estuvieses', 'estuviésemos', 'estuvieseis', 'estuviesen', 'estando', 'estado', 'estada', 'estados', 'estadas', 'estad', 'he', 'has', 'ha', 'hemos', 'habéis', 'han', 'haya', 'hayas', 'hayamos', 'hayáis', 'hayan', 'habré', 'habrás', 'habrá', 'habremos', 'habréis', 'habrán', 'habría', 'habrías', 'habríamos', 'habríais', 'habrían', 'había', 'habías', 'habíamos', 'habíais', 'habían', 'hube', 'hubiste', 'hubo', 'hubimos', 'hubisteis', 'hubieron', 'hubiera', 'hubieras', 'hubiéramos', 'hubierais', 'hubieran', 'hubiese', 'hubieses', 'hubiésemos', 'hubieseis', 'hubiesen', 'habiendo', 'habido', 'habida', 'habidos', 'habidas', 'soy', 'eres', 'es', 'somos', 'sois', 'son', 'sea', 'seas', 'seamos', 'seáis', 'sean', 'seré', 'serás', 'será', 'seremos', 'seréis', 'serán', 'sería', 'serías', 'seríamos', 'seríais', 'serían', 'era', 'eras', 'éramos', 'erais', 'eran', 'fui', 'fuiste', 'fue', 'fuimos', 'fuisteis', 'fueron', 'fuera', 'fueras', 'fuéramos', 'fuerais', 'fueran', 'fuese', 'fueses', 'fuésemos', 'fueseis', 'fuesen', 'sintiendo', 'sentido', 'sentida', 'sentidos', 'sentidas', 'siente', 'sentid', 'tengo', 'tienes', 'tiene', 'tenemos', 'tenéis', 'tienen', 'tenga', 'tengas', 'tengamos', 'tengáis', 'tengan', 'tendré', 'tendrás', 'tendrá', 'tendremos', 'tendréis', 'tendrán', 'tendría', 'tendrías', 'tendríamos', 'tendríais', 'tendrían', 'tenía', 'tenías', 'teníamos', 'teníais', 'tenían', 'tuve', 'tuviste', 'tuvo', 'tuvimos', 'tuvisteis', 'tuvieron', 'tuviera', 'tuvieras', 'tuviéramos', 'tuvierais', 'tuvieran', 'tuviese', 'tuvieses', 'tuviésemos', 'tuvieseis', 'tuviesen', 'teniendo', 'tenido', 'tenida', 'tenidos', 'tenidas', 'tened']}</td>\n",
              "      <td>0.593458</td>\n",
              "      <td>0.597190</td>\n",
              "      <td>0.548009</td>\n",
              "      <td>0.578454</td>\n",
              "      <td>0.573770</td>\n",
              "      <td>0.578176</td>\n",
              "      <td>0.017462</td>\n",
              "      <td>45</td>\n",
              "      <td>0.674521</td>\n",
              "      <td>0.661781</td>\n",
              "      <td>0.560543</td>\n",
              "      <td>0.643699</td>\n",
              "      <td>0.634103</td>\n",
              "      <td>0.634929</td>\n",
              "      <td>0.039748</td>\n",
              "      <td>37</td>\n",
              "      <td>0.550615</td>\n",
              "      <td>0.554400</td>\n",
              "      <td>0.504911</td>\n",
              "      <td>0.534159</td>\n",
              "      <td>0.529872</td>\n",
              "      <td>0.534792</td>\n",
              "      <td>0.017620</td>\n",
              "      <td>57</td>\n",
              "      <td>0.528636</td>\n",
              "      <td>0.530773</td>\n",
              "      <td>0.468652</td>\n",
              "      <td>0.511549</td>\n",
              "      <td>0.501504</td>\n",
              "      <td>0.508223</td>\n",
              "      <td>...</td>\n",
              "      <td>0.593458</td>\n",
              "      <td>0.597190</td>\n",
              "      <td>0.548009</td>\n",
              "      <td>0.578454</td>\n",
              "      <td>0.573770</td>\n",
              "      <td>0.578176</td>\n",
              "      <td>0.017462</td>\n",
              "      <td>45</td>\n",
              "      <td>0.593458</td>\n",
              "      <td>0.597190</td>\n",
              "      <td>0.548009</td>\n",
              "      <td>0.578454</td>\n",
              "      <td>0.573770</td>\n",
              "      <td>0.578176</td>\n",
              "      <td>0.017462</td>\n",
              "      <td>45</td>\n",
              "      <td>0.659760</td>\n",
              "      <td>0.649796</td>\n",
              "      <td>0.556440</td>\n",
              "      <td>0.631775</td>\n",
              "      <td>0.622781</td>\n",
              "      <td>0.624110</td>\n",
              "      <td>0.036250</td>\n",
              "      <td>41</td>\n",
              "      <td>0.593458</td>\n",
              "      <td>0.597190</td>\n",
              "      <td>0.548009</td>\n",
              "      <td>0.578454</td>\n",
              "      <td>0.573770</td>\n",
              "      <td>0.578176</td>\n",
              "      <td>0.017462</td>\n",
              "      <td>45</td>\n",
              "      <td>0.546379</td>\n",
              "      <td>0.549018</td>\n",
              "      <td>0.490076</td>\n",
              "      <td>0.530473</td>\n",
              "      <td>0.521123</td>\n",
              "      <td>0.527414</td>\n",
              "      <td>0.021305</td>\n",
              "      <td>57</td>\n",
              "    </tr>\n",
              "    <tr>\n",
              "      <th>1</th>\n",
              "      <td>1</td>\n",
              "      <td>2.597394</td>\n",
              "      <td>0.010742</td>\n",
              "      <td>0.675168</td>\n",
              "      <td>0.020884</td>\n",
              "      <td>MultinomialNB()</td>\n",
              "      <td>TfidfVectorizer(tokenizer=&lt;bound method TweetTokenizer.tokenize of &lt;nltk.tokenize.casual.TweetTokenizer object at 0x7fb29c4ee850&gt;&gt;,\\n                use_idf=False)</td>\n",
              "      <td>&lt;bound method Preprocessor.preprocess of Preprocessor([twitter_features=remove, stemming=True])&gt;</td>\n",
              "      <td>NaN</td>\n",
              "      <td>{'classifier': MultinomialNB(), 'vectorizer': TfidfVectorizer(tokenizer=&lt;bound method TweetTokenizer.tokenize of &lt;nltk.tokenize.casual.TweetTokenizer object at 0x7fb29c4ee850&gt;&gt;,\\n                use_idf=False), 'vectorizer__preprocessor': &lt;bound method Preprocessor.preprocess of Preprocessor([twitter_features=remove, stemming=True])&gt;, 'vectorizer__stop_words': None}</td>\n",
              "      <td>0.579439</td>\n",
              "      <td>0.594848</td>\n",
              "      <td>0.522248</td>\n",
              "      <td>0.569087</td>\n",
              "      <td>0.557377</td>\n",
              "      <td>0.564600</td>\n",
              "      <td>0.024499</td>\n",
              "      <td>56</td>\n",
              "      <td>0.705802</td>\n",
              "      <td>0.688750</td>\n",
              "      <td>0.548126</td>\n",
              "      <td>0.622213</td>\n",
              "      <td>0.631226</td>\n",
              "      <td>0.639223</td>\n",
              "      <td>0.055745</td>\n",
              "      <td>31</td>\n",
              "      <td>0.534009</td>\n",
              "      <td>0.550528</td>\n",
              "      <td>0.474838</td>\n",
              "      <td>0.521624</td>\n",
              "      <td>0.510477</td>\n",
              "      <td>0.518295</td>\n",
              "      <td>0.025482</td>\n",
              "      <td>61</td>\n",
              "      <td>0.498262</td>\n",
              "      <td>0.513693</td>\n",
              "      <td>0.422370</td>\n",
              "      <td>0.479926</td>\n",
              "      <td>0.463087</td>\n",
              "      <td>0.475467</td>\n",
              "      <td>...</td>\n",
              "      <td>0.579439</td>\n",
              "      <td>0.594848</td>\n",
              "      <td>0.522248</td>\n",
              "      <td>0.569087</td>\n",
              "      <td>0.557377</td>\n",
              "      <td>0.564600</td>\n",
              "      <td>0.024499</td>\n",
              "      <td>56</td>\n",
              "      <td>0.579439</td>\n",
              "      <td>0.594848</td>\n",
              "      <td>0.522248</td>\n",
              "      <td>0.569087</td>\n",
              "      <td>0.557377</td>\n",
              "      <td>0.564600</td>\n",
              "      <td>0.024499</td>\n",
              "      <td>56</td>\n",
              "      <td>0.685601</td>\n",
              "      <td>0.672857</td>\n",
              "      <td>0.542883</td>\n",
              "      <td>0.612275</td>\n",
              "      <td>0.618922</td>\n",
              "      <td>0.626508</td>\n",
              "      <td>0.050781</td>\n",
              "      <td>37</td>\n",
              "      <td>0.579439</td>\n",
              "      <td>0.594848</td>\n",
              "      <td>0.522248</td>\n",
              "      <td>0.569087</td>\n",
              "      <td>0.557377</td>\n",
              "      <td>0.564600</td>\n",
              "      <td>0.024499</td>\n",
              "      <td>56</td>\n",
              "      <td>0.518944</td>\n",
              "      <td>0.534143</td>\n",
              "      <td>0.447469</td>\n",
              "      <td>0.502772</td>\n",
              "      <td>0.486713</td>\n",
              "      <td>0.498008</td>\n",
              "      <td>0.029828</td>\n",
              "      <td>60</td>\n",
              "    </tr>\n",
              "  </tbody>\n",
              "</table>\n",
              "<p>2 rows × 90 columns</p>\n",
              "</div>"
            ],
            "text/plain": [
              "   Unnamed: 0  mean_fit_time  ...  std_test_f1_weighted  rank_test_f1_weighted\n",
              "0  0           2.634989       ...  0.021305              57                   \n",
              "1  1           2.597394       ...  0.029828              60                   \n",
              "\n",
              "[2 rows x 90 columns]"
            ]
          },
          "metadata": {},
          "execution_count": 110
        }
      ]
    },
    {
      "cell_type": "code",
      "metadata": {
        "id": "_kaDGMcmjBzK"
      },
      "source": [
        "dr = results[['param_classifier', 'param_vectorizer', 'param_vectorizer__preprocessor', 'param_vectorizer__stop_words', 'params', \n",
        "              'mean_test_accuracy', 'mean_test_precision_weighted', 'mean_test_recall_weighted', 'mean_test_f1_weighted', 'rank_test_f1_weighted']]\n",
        "dr = dr.loc[(dr['rank_test_f1_weighted'] == mnb) | (dr['rank_test_f1_weighted'] == svm) | (dr['rank_test_f1_weighted'] == log) | (dr['rank_test_f1_weighted'] == tre)]\n",
        "# dr.insert(0, \"classifier\", np.nan, allow_duplicates=False)\n",
        "# for i in dr.index: \n",
        "#   if 'MultinomialNB' in str(dr['param_classifier'][i]):\n",
        "#     dr['classifier'][i] = 'MultinomialNB'\n",
        "#   if 'LinearSVC' in str(dr['param_classifier'][i]):\n",
        "#     dr['classifier'][i] = 'LinearSVC'\n",
        "#   if 'DecisionTreeClassifier' in str(dr['param_classifier'][i]):\n",
        "#     dr['classifier'][i] = 'DecisionTreeClassifier'\n",
        "#   if 'LogisticRegression' in str(dr['param_classifier'][i]):\n",
        "#     dr['classifier'][i] = 'LogisticRegression'"
      ],
      "execution_count": null,
      "outputs": []
    },
    {
      "cell_type": "code",
      "metadata": {
        "colab": {
          "base_uri": "https://localhost:8080/",
          "height": 1000
        },
        "id": "ZgXSpjPXmlIY",
        "outputId": "67808248-6f41-4aa5-ce37-62ae7254e51e"
      },
      "source": [
        "pd.set_option('display.max_colwidth', -1)\n",
        "dr.head()"
      ],
      "execution_count": 112,
      "outputs": [
        {
          "output_type": "stream",
          "name": "stderr",
          "text": [
            "/usr/local/lib/python3.7/dist-packages/ipykernel_launcher.py:2: FutureWarning: Passing a negative integer is deprecated in version 1.0 and will not be supported in future version. Instead, use None to not limit the column width.\n",
            "  \n"
          ]
        },
        {
          "output_type": "execute_result",
          "data": {
            "text/html": [
              "<div>\n",
              "<style scoped>\n",
              "    .dataframe tbody tr th:only-of-type {\n",
              "        vertical-align: middle;\n",
              "    }\n",
              "\n",
              "    .dataframe tbody tr th {\n",
              "        vertical-align: top;\n",
              "    }\n",
              "\n",
              "    .dataframe thead th {\n",
              "        text-align: right;\n",
              "    }\n",
              "</style>\n",
              "<table border=\"1\" class=\"dataframe\">\n",
              "  <thead>\n",
              "    <tr style=\"text-align: right;\">\n",
              "      <th></th>\n",
              "      <th>classifier</th>\n",
              "      <th>param_classifier</th>\n",
              "      <th>param_vectorizer</th>\n",
              "      <th>param_vectorizer__preprocessor</th>\n",
              "      <th>param_vectorizer__stop_words</th>\n",
              "      <th>params</th>\n",
              "      <th>mean_test_accuracy</th>\n",
              "      <th>mean_test_precision_weighted</th>\n",
              "      <th>mean_test_recall_weighted</th>\n",
              "      <th>mean_test_f1_weighted</th>\n",
              "      <th>rank_test_f1_weighted</th>\n",
              "    </tr>\n",
              "  </thead>\n",
              "  <tbody>\n",
              "    <tr>\n",
              "      <th>8</th>\n",
              "      <td>MultinomialNB</td>\n",
              "      <td>MultinomialNB()</td>\n",
              "      <td>TfidfVectorizer(preprocessor=&lt;bound method Preprocessor.preprocess of Preprocessor([twitter_features=normalize, stemming=True])&gt;,\\n                tokenizer=&lt;bound method TweetTokenizer.tokenize of &lt;nltk.tokenize.casual.TweetTokenizer object at 0x7fb29c4ee850&gt;&gt;)</td>\n",
              "      <td>&lt;bound method Preprocessor.preprocess of Preprocessor([twitter_features=remove, stemming=True])&gt;</td>\n",
              "      <td>['de', 'la', 'que', 'el', 'en', 'y', 'a', 'los', 'del', 'se', 'las', 'por', 'un', 'para', 'con', 'no', 'una', 'su', 'al', 'lo', 'como', 'más', 'pero', 'sus', 'le', 'ya', 'o', 'este', 'sí', 'porque', 'esta', 'entre', 'cuando', 'muy', 'sin', 'sobre', 'también', 'me', 'hasta', 'hay', 'donde', 'quien', 'desde', 'todo', 'nos', 'durante', 'todos', 'uno', 'les', 'ni', 'contra', 'otros', 'ese', 'eso', 'ante', 'ellos', 'e', 'esto', 'mí', 'antes', 'algunos', 'qué', 'unos', 'yo', 'otro', 'otras', 'otra', 'él', 'tanto', 'esa', 'estos', 'mucho', 'quienes', 'nada', 'muchos', 'cual', 'poco', 'ella', 'estar', 'estas', 'algunas', 'algo', 'nosotros', 'mi', 'mis', 'tú', 'te', 'ti', 'tu', 'tus', 'ellas', 'nosotras', 'vosotros', 'vosotras', 'os', 'mío', 'mía', 'míos', 'mías', 'tuyo', 'tuya', 'tuyos', 'tuyas', 'suyo', 'suya', 'suyos', 'suyas', 'nuestro', 'nuestra', 'nuestros', 'nuestras', 'vuestro', 'vuestra', 'vuestros', 'vuestras', 'esos', 'esas', 'estoy', 'estás', 'está', 'estamos', 'estáis', 'están', 'esté', 'estés', 'estemos', 'estéis', 'estén', 'estaré', 'estarás', 'estará', 'estaremos', 'estaréis', 'estarán', 'estaría', 'estarías', 'estaríamos', 'estaríais', 'estarían', 'estaba', 'estabas', 'estábamos', 'estabais', 'estaban', 'estuve', 'estuviste', 'estuvo', 'estuvimos', 'estuvisteis', 'estuvieron', 'estuviera', 'estuvieras', 'estuviéramos', 'estuvierais', 'estuvieran', 'estuviese', 'estuvieses', 'estuviésemos', 'estuvieseis', 'estuviesen', 'estando', 'estado', 'estada', 'estados', 'estadas', 'estad', 'he', 'has', 'ha', 'hemos', 'habéis', 'han', 'haya', 'hayas', 'hayamos', 'hayáis', 'hayan', 'habré', 'habrás', 'habrá', 'habremos', 'habréis', 'habrán', 'habría', 'habrías', 'habríamos', 'habríais', 'habrían', 'había', 'habías', 'habíamos', 'habíais', 'habían', 'hube', 'hubiste', 'hubo', 'hubimos', 'hubisteis', 'hubieron', 'hubiera', 'hubieras', 'hubiéramos', 'hubierais', 'hubieran', 'hubiese', 'hubieses', 'hubiésemos', 'hubieseis', 'hubiesen', 'habiendo', 'habido', 'habida', 'habidos', 'habidas', 'soy', 'eres', 'es', 'somos', 'sois', 'son', 'sea', 'seas', 'seamos', 'seáis', 'sean', 'seré', 'serás', 'será', 'seremos', 'seréis', 'serán', 'sería', 'serías', 'seríamos', 'seríais', 'serían', 'era', 'eras', 'éramos', 'erais', 'eran', 'fui', 'fuiste', 'fue', 'fuimos', 'fuisteis', 'fueron', 'fuera', 'fueras', 'fuéramos', 'fuerais', 'fueran', 'fuese', 'fueses', 'fuésemos', 'fueseis', 'fuesen', 'sintiendo', 'sentido', 'sentida', 'sentidos', 'sentidas', 'siente', 'sentid', 'tengo', 'tienes', 'tiene', 'tenemos', 'tenéis', 'tienen', 'tenga', 'tengas', 'tengamos', 'tengáis', 'tengan', 'tendré', 'tendrás', 'tendrá', 'tendremos', 'tendréis', 'tendrán', 'tendría', 'tendrías', 'tendríamos', 'tendríais', 'tendrían', 'tenía', 'tenías', 'teníamos', 'teníais', 'tenían', 'tuve', 'tuviste', 'tuvo', 'tuvimos', 'tuvisteis', 'tuvieron', 'tuviera', 'tuvieras', 'tuviéramos', 'tuvierais', 'tuvieran', 'tuviese', 'tuvieses', 'tuviésemos', 'tuvieseis', 'tuviesen', 'teniendo', 'tenido', 'tenida', 'tenidos', 'tenidas', 'tened']</td>\n",
              "      <td>{'classifier': MultinomialNB(), 'vectorizer': TfidfVectorizer(preprocessor=&lt;bound method Preprocessor.preprocess of Preprocessor([twitter_features=normalize, stemming=True])&gt;,\\n                tokenizer=&lt;bound method TweetTokenizer.tokenize of &lt;nltk.tokenize.casual.TweetTokenizer object at 0x7fb29c4ee850&gt;&gt;), 'vectorizer__preprocessor': &lt;bound method Preprocessor.preprocess of Preprocessor([twitter_features=remove, stemming=True])&gt;, 'vectorizer__stop_words': ['de', 'la', 'que', 'el', 'en', 'y', 'a', 'los', 'del', 'se', 'las', 'por', 'un', 'para', 'con', 'no', 'una', 'su', 'al', 'lo', 'como', 'más', 'pero', 'sus', 'le', 'ya', 'o', 'este', 'sí', 'porque', 'esta', 'entre', 'cuando', 'muy', 'sin', 'sobre', 'también', 'me', 'hasta', 'hay', 'donde', 'quien', 'desde', 'todo', 'nos', 'durante', 'todos', 'uno', 'les', 'ni', 'contra', 'otros', 'ese', 'eso', 'ante', 'ellos', 'e', 'esto', 'mí', 'antes', 'algunos', 'qué', 'unos', 'yo', 'otro', 'otras', 'otra', 'él', 'tanto', 'esa', 'estos', 'mucho', 'quienes', 'nada', 'muchos', 'cual', 'poco', 'ella', 'estar', 'estas', 'algunas', 'algo', 'nosotros', 'mi', 'mis', 'tú', 'te', 'ti', 'tu', 'tus', 'ellas', 'nosotras', 'vosotros', 'vosotras', 'os', 'mío', 'mía', 'míos', 'mías', 'tuyo', 'tuya', 'tuyos', 'tuyas', 'suyo', 'suya', 'suyos', 'suyas', 'nuestro', 'nuestra', 'nuestros', 'nuestras', 'vuestro', 'vuestra', 'vuestros', 'vuestras', 'esos', 'esas', 'estoy', 'estás', 'está', 'estamos', 'estáis', 'están', 'esté', 'estés', 'estemos', 'estéis', 'estén', 'estaré', 'estarás', 'estará', 'estaremos', 'estaréis', 'estarán', 'estaría', 'estarías', 'estaríamos', 'estaríais', 'estarían', 'estaba', 'estabas', 'estábamos', 'estabais', 'estaban', 'estuve', 'estuviste', 'estuvo', 'estuvimos', 'estuvisteis', 'estuvieron', 'estuviera', 'estuvieras', 'estuviéramos', 'estuvierais', 'estuvieran', 'estuviese', 'estuvieses', 'estuviésemos', 'estuvieseis', 'estuviesen', 'estando', 'estado', 'estada', 'estados', 'estadas', 'estad', 'he', 'has', 'ha', 'hemos', 'habéis', 'han', 'haya', 'hayas', 'hayamos', 'hayáis', 'hayan', 'habré', 'habrás', 'habrá', 'habremos', 'habréis', 'habrán', 'habría', 'habrías', 'habríamos', 'habríais', 'habrían', 'había', 'habías', 'habíamos', 'habíais', 'habían', 'hube', 'hubiste', 'hubo', 'hubimos', 'hubisteis', 'hubieron', 'hubiera', 'hubieras', 'hubiéramos', 'hubierais', 'hubieran', 'hubiese', 'hubieses', 'hubiésemos', 'hubieseis', 'hubiesen', 'habiendo', 'habido', 'habida', 'habidos', 'habidas', 'soy', 'eres', 'es', 'somos', 'sois', 'son', 'sea', 'seas', 'seamos', 'seáis', 'sean', 'seré', 'serás', 'será', 'seremos', 'seréis', 'serán', 'sería', 'serías', 'seríamos', 'seríais', 'serían', 'era', 'eras', 'éramos', 'erais', 'eran', 'fui', 'fuiste', 'fue', 'fuimos', 'fuisteis', 'fueron', 'fuera', 'fueras', 'fuéramos', 'fuerais', 'fueran', 'fuese', 'fueses', 'fuésemos', 'fueseis', 'fuesen', 'sintiendo', 'sentido', 'sentida', 'sentidos', 'sentidas', 'siente', 'sentid', 'tengo', 'tienes', 'tiene', 'tenemos', 'tenéis', 'tienen', 'tenga', 'tengas', 'tengamos', 'tengáis', 'tengan', 'tendré', 'tendrás', 'tendrá', 'tendremos', 'tendréis', 'tendrán', 'tendría', 'tendrías', 'tendríamos', 'tendríais', 'tendrían', 'tenía', 'tenías', 'teníamos', 'teníais', 'tenían', 'tuve', 'tuviste', 'tuvo', 'tuvimos', 'tuvisteis', 'tuvieron', 'tuviera', 'tuvieras', 'tuviéramos', 'tuvierais', 'tuvieran', 'tuviese', 'tuvieses', 'tuviésemos', 'tuvieseis', 'tuviesen', 'teniendo', 'tenido', 'tenida', 'tenidos', 'tenidas', 'tened']}</td>\n",
              "      <td>0.608146</td>\n",
              "      <td>0.630868</td>\n",
              "      <td>0.608146</td>\n",
              "      <td>0.573131</td>\n",
              "      <td>37</td>\n",
              "    </tr>\n",
              "    <tr>\n",
              "      <th>27</th>\n",
              "      <td>LinearSVC</td>\n",
              "      <td>LinearSVC()</td>\n",
              "      <td>TfidfVectorizer(preprocessor=&lt;bound method Preprocessor.preprocess of Preprocessor([twitter_features=normalize, stemming=True])&gt;,\\n                tokenizer=&lt;bound method TweetTokenizer.tokenize of &lt;nltk.tokenize.casual.TweetTokenizer object at 0x7fb29c4ee850&gt;&gt;)</td>\n",
              "      <td>&lt;bound method Preprocessor.preprocess of Preprocessor([twitter_features=normalize, stemming=True])&gt;</td>\n",
              "      <td>NaN</td>\n",
              "      <td>{'classifier': LinearSVC(), 'vectorizer': TfidfVectorizer(preprocessor=&lt;bound method Preprocessor.preprocess of Preprocessor([twitter_features=normalize, stemming=True])&gt;,\\n                tokenizer=&lt;bound method TweetTokenizer.tokenize of &lt;nltk.tokenize.casual.TweetTokenizer object at 0x7fb29c4ee850&gt;&gt;), 'vectorizer__preprocessor': &lt;bound method Preprocessor.preprocess of Preprocessor([twitter_features=normalize, stemming=True])&gt;, 'vectorizer__stop_words': None}</td>\n",
              "      <td>0.691483</td>\n",
              "      <td>0.685350</td>\n",
              "      <td>0.691483</td>\n",
              "      <td>0.686074</td>\n",
              "      <td>1</td>\n",
              "    </tr>\n",
              "    <tr>\n",
              "      <th>41</th>\n",
              "      <td>LogisticRegression</td>\n",
              "      <td>LogisticRegression()</td>\n",
              "      <td>TfidfVectorizer(preprocessor=&lt;bound method Preprocessor.preprocess of Preprocessor([twitter_features=normalize, stemming=True])&gt;,\\n                tokenizer=&lt;bound method TweetTokenizer.tokenize of &lt;nltk.tokenize.casual.TweetTokenizer object at 0x7fb29c4ee850&gt;&gt;)</td>\n",
              "      <td>&lt;bound method Preprocessor.preprocess of Preprocessor([twitter_features=remove, stemming=True])&gt;</td>\n",
              "      <td>NaN</td>\n",
              "      <td>{'classifier': LogisticRegression(), 'vectorizer': TfidfVectorizer(preprocessor=&lt;bound method Preprocessor.preprocess of Preprocessor([twitter_features=normalize, stemming=True])&gt;,\\n                tokenizer=&lt;bound method TweetTokenizer.tokenize of &lt;nltk.tokenize.casual.TweetTokenizer object at 0x7fb29c4ee850&gt;&gt;), 'vectorizer__preprocessor': &lt;bound method Preprocessor.preprocess of Preprocessor([twitter_features=remove, stemming=True])&gt;, 'vectorizer__stop_words': None}</td>\n",
              "      <td>0.668535</td>\n",
              "      <td>0.659992</td>\n",
              "      <td>0.668535</td>\n",
              "      <td>0.655983</td>\n",
              "      <td>14</td>\n",
              "    </tr>\n",
              "    <tr>\n",
              "      <th>55</th>\n",
              "      <td>DecisionTreeClassifier</td>\n",
              "      <td>DecisionTreeClassifier()</td>\n",
              "      <td>TfidfVectorizer(tokenizer=&lt;bound method TweetTokenizer.tokenize of &lt;nltk.tokenize.casual.TweetTokenizer object at 0x7fb29c4ee850&gt;&gt;,\\n                use_idf=False)</td>\n",
              "      <td>&lt;bound method Preprocessor.preprocess of Preprocessor([twitter_features=normalize, stemming=False])&gt;</td>\n",
              "      <td>NaN</td>\n",
              "      <td>{'classifier': DecisionTreeClassifier(), 'vectorizer': TfidfVectorizer(tokenizer=&lt;bound method TweetTokenizer.tokenize of &lt;nltk.tokenize.casual.TweetTokenizer object at 0x7fb29c4ee850&gt;&gt;,\\n                use_idf=False), 'vectorizer__preprocessor': &lt;bound method Preprocessor.preprocess of Preprocessor([twitter_features=normalize, stemming=False])&gt;, 'vectorizer__stop_words': None}</td>\n",
              "      <td>0.586119</td>\n",
              "      <td>0.586724</td>\n",
              "      <td>0.586119</td>\n",
              "      <td>0.584950</td>\n",
              "      <td>33</td>\n",
              "    </tr>\n",
              "  </tbody>\n",
              "</table>\n",
              "</div>"
            ],
            "text/plain": [
              "                classifier  ... rank_test_f1_weighted\n",
              "8   MultinomialNB           ...  37                  \n",
              "27  LinearSVC               ...  1                   \n",
              "41  LogisticRegression      ...  14                  \n",
              "55  DecisionTreeClassifier  ...  33                  \n",
              "\n",
              "[4 rows x 11 columns]"
            ]
          },
          "metadata": {},
          "execution_count": 112
        }
      ]
    },
    {
      "cell_type": "code",
      "metadata": {
        "colab": {
          "base_uri": "https://localhost:8080/",
          "height": 295
        },
        "id": "2ZNwojDxB4F8",
        "outputId": "e4365c3e-5c38-4fbf-aefd-f41754b58c0d"
      },
      "source": [
        "# Visualizamos el porcentaje del mejor resultado de cada clasificador tomando como score el F1-score\n",
        "width = 0.35\n",
        "fig, ax = plt.subplots()\n",
        "pps = ax.bar(dr['classifier'], dr['mean_test_f1_weighted'] * 100, width, align='center')\n",
        "for p in pps:\n",
        "  ax.text(x=p.get_x() + p.get_width() / 2, y=p.get_height() + 10, s=\"{}%\".format(round(p.get_height(), 2)), ha='center')\n",
        "plt.title(\"F1-score máximo por clasificador\")\n",
        "plt.ylabel(\"Porcentaje\")\n",
        "plt.xlabel(\"Clasificador\")\n",
        "plt.ylim([0, 100])\n",
        "plt.show()"
      ],
      "execution_count": 117,
      "outputs": [
        {
          "output_type": "display_data",
          "data": {
            "image/png": "[encoded data removed]",
            "text/plain": [
              "<Figure size 432x288 with 1 Axes>"
            ]
          },
          "metadata": {
            "needs_background": "light"
          }
        }
      ]
    },
    {
      "cell_type": "markdown",
      "metadata": {
        "id": "z7bRi689Di10"
      },
      "source": [
        "## **MEJORAMIENTO DEL MODELO SVM**"
      ]
    },
    {
      "cell_type": "code",
      "metadata": {
        "id": "n5QSdKcjDiIv"
      },
      "source": [
        "# Volvemos a invocar a nuestro dataset de trabajo\n",
        "# dataset = pd.read_csv('', encoding = \"utf-8\")\n",
        "# X = dataset['content']\n",
        "# y = dataset['sentiment']"
      ],
      "execution_count": null,
      "outputs": []
    },
    {
      "cell_type": "code",
      "metadata": {
        "id": "-Rxrf6zUE3WF"
      },
      "source": [
        "X_train, X_test, y_train, y_test = train_test_split(X, y, test_size=0.25, random_state=1) "
      ],
      "execution_count": 105,
      "outputs": []
    },
    {
      "cell_type": "code",
      "metadata": {
        "id": "4fR30GY9DwMZ"
      },
      "source": [
        "# Definimos 4 extractores que permitira la creración de una nueva columan donde ira contabilizando el número de ocurrencias de alguna palabra\n",
        "from preprocessor import Preprocessor # Es la misma clase del Preprocesador de texto que simplemente se encuentra ahora en un archivo externo\n",
        "from lexicon_extractor import LexiconExtractor # Extractor de léxico, contabiliza las palabras positivas o negativas de acuerdo a un diccionario\n",
        "from symbol_extractor import SentimentSymbolExtractor # Extractor de emoticones, contabiliza los emoticones de acuerdo a un diccionario de emoticones\n",
        "from laugh_extractor import LaughExtractor # Extractor de risas y carcajadas, contabiliza las carcajadas y los contabiliza\n",
        "\n",
        "# La idea es evaluar si exte tipo de normalización, contabilizando el numero de ocurrencias, si son indicadores que mejoran el modelo inicial"
      ],
      "execution_count": 21,
      "outputs": []
    },
    {
      "cell_type": "code",
      "metadata": {
        "id": "6FfuPc8sE_ye"
      },
      "source": [
        "# Definimos la función de ponderación recomendada con el buscador, con los parámteros mejor puntuados\n",
        "func_preprocessor = Preprocessor(twitter_features='remove', stemming=True).preprocess\n",
        "bow_term_frequency_idf = TfidfVectorizer(use_idf=True, tokenizer=tokenizer, preprocessor=func_preprocessor, stop_words=None)"
      ],
      "execution_count": 106,
      "outputs": []
    },
    {
      "cell_type": "code",
      "metadata": {
        "colab": {
          "base_uri": "https://localhost:8080/"
        },
        "id": "dvwBb499EATZ",
        "outputId": "832577d8-44f3-4ebb-b134-f38000d303c1"
      },
      "source": [
        "# Entrenamos el modelo con los parámetros ya anteriormente probados\n",
        "model = Pipeline([\n",
        "    ('feats', FeatureUnion([\n",
        "           ('vectorizer', bow_term_frequency_idf),\n",
        "           ('sentiment_symbol', SentimentSymbolExtractor()),\n",
        "           ('lexicon', LexiconExtractor()),\n",
        "           ('laugh', LaughExtractor()),\n",
        "    ])),\n",
        "    (\"fs\", SelectKBest(score_func=chi2, k='all')),\n",
        "    ('classifier', LinearSVC(C=1))\n",
        "])\n",
        "\n",
        "model.fit(X_train, y_train)\n",
        "\n",
        "y_prediction = model.predict(X_test)\n",
        "\n",
        "report = classification_report(y_test, y_prediction, digits=4)\n",
        "\n",
        "print(report)\n",
        "print(accuracy_score(y_test, y_prediction))"
      ],
      "execution_count": 107,
      "outputs": [
        {
          "output_type": "stream",
          "name": "stdout",
          "text": [
            "              precision    recall  f1-score   support\n",
            "\n",
            "         neg     0.7697    0.7987    0.7840       159\n",
            "         neu     0.6667    0.5786    0.6195       159\n",
            "         pos     0.7316    0.7824    0.7562       216\n",
            "\n",
            "    accuracy                         0.7266       534\n",
            "   macro avg     0.7227    0.7199    0.7199       534\n",
            "weighted avg     0.7236    0.7266    0.7237       534\n",
            "\n",
            "0.7265917602996255\n"
          ]
        }
      ]
    },
    {
      "cell_type": "code",
      "metadata": {
        "colab": {
          "base_uri": "https://localhost:8080/",
          "height": 301
        },
        "id": "zS7MkIeXyu-D",
        "outputId": "ab695aa1-a0ca-45a3-d8df-68dda9c22536"
      },
      "source": [
        "from sklearn.metrics import confusion_matrix,accuracy_score,classification_report\n",
        "import seaborn as sns\n",
        "print(accuracy_score(y_test,y_prediction))\n",
        "sns.heatmap(confusion_matrix(y_test,y_prediction),annot=True,fmt='.4g')"
      ],
      "execution_count": 108,
      "outputs": [
        {
          "output_type": "stream",
          "name": "stdout",
          "text": [
            "0.7265917602996255\n"
          ]
        },
        {
          "output_type": "execute_result",
          "data": {
            "text/plain": [
              "<matplotlib.axes._subplots.AxesSubplot at 0x7fb29481bb50>"
            ]
          },
          "metadata": {},
          "execution_count": 108
        },
        {
          "output_type": "display_data",
          "data": {
            "image/png": "[encoded data removed]",
            "text/plain": [
              "<Figure size 432x288 with 2 Axes>"
            ]
          },
          "metadata": {
            "needs_background": "light"
          }
        }
      ]
    },
    {
      "cell_type": "code",
      "metadata": {
        "colab": {
          "base_uri": "https://localhost:8080/"
        },
        "id": "Ob59sqQuEB81",
        "outputId": "ef6949e9-cc3d-42e5-b9a0-4b512b99fd94"
      },
      "source": [
        "# Predecimos algunos mensajes de texto como ejemplo\n",
        "#model = pickle.load(open('trained_model.pickle', 'rb'))\n",
        "demo = model.predict(['Esta vacuna me gusta B)', 'La vacuna sputnik no me genera confianza :('])\n",
        "print(demo)"
      ],
      "execution_count": 135,
      "outputs": [
        {
          "output_type": "stream",
          "name": "stdout",
          "text": [
            "['pos' 'neg']\n"
          ]
        }
      ]
    },
    {
      "cell_type": "markdown",
      "metadata": {
        "id": "QurK87Y5Xvwg"
      },
      "source": [
        "# **2. CLASIFICACIÓN MEDIANTE CLOUD SERVICE**"
      ]
    },
    {
      "cell_type": "code",
      "metadata": {
        "id": "XQOhiipvWJmD"
      },
      "source": [
        "# Obtenemos los datos, se utilizará el mismo dataset para la evaluación\n",
        "df = pd.read_csv('1-manualDataset1.csv', encoding = \"utf-8\")"
      ],
      "execution_count": null,
      "outputs": []
    },
    {
      "cell_type": "code",
      "metadata": {
        "id": "tDSEslp7WGll"
      },
      "source": [
        "# Instalamos la libreria MeaningCloud\n",
        "!pip install MeaningCloud-python\n",
        "import meaningcloud"
      ],
      "execution_count": null,
      "outputs": []
    },
    {
      "cell_type": "code",
      "metadata": {
        "id": "cpWCcOA5WZzV"
      },
      "source": [
        "# Añadimos algunas columnas donde extraeremos la información devuelta por el API\n",
        "df['sentiment_mc'] = np.nan\n",
        "df['irony_mc'] = np.nan\n",
        "df['subjetivity_mc'] = np.nan"
      ],
      "execution_count": null,
      "outputs": []
    },
    {
      "cell_type": "code",
      "metadata": {
        "id": "asCLZseHWZ2j"
      },
      "source": [
        "# Definimos la función que obtendrá la polarida y otros datos, previamente debemos registrarnos en MeaningCloud y obtener la llave de licencia para empezar a utilizarlo\n",
        "license_key = 'xxxxxxxxxxxxxxxxxxxxxxxxxxxxxxx'\n",
        "for i in df.index: \n",
        "  sentiment_response = meaningcloud.SentimentResponse(meaningcloud.SentimentRequest(license_key, lang='es', txt=df['clean_content'][i], txtf='plain').sendReq())\n",
        "  if sentiment_response.isSuccessful():\n",
        "    df['sentiment_mc'][i] = sentiment_response.getGlobalScoreTag()\n",
        "    df['irony_mc'][i] = sentiment_response.getIrony()\n",
        "    df['subjetivity_mc'][i] = sentiment_response.getSubjectivity()"
      ],
      "execution_count": null,
      "outputs": []
    },
    {
      "cell_type": "code",
      "metadata": {
        "id": "YppJa3HlWGtC"
      },
      "source": [
        "# Verificamos los valores que arrojó el proceso anterior en la polaridad de los tweets\n",
        "df['sentiment_mc'].value_counts()"
      ],
      "execution_count": null,
      "outputs": []
    },
    {
      "cell_type": "code",
      "metadata": {
        "id": "u9Mn--WMW3AL"
      },
      "source": [
        "# Para reducir la categorización de la polaridad se implementa la siguiente función\n",
        "def reduce_classify_sentiment(sentiment):\n",
        "  if sentiment == 'P' or sentiment == 'P+':\n",
        "    return 'Positive'\n",
        "  if sentiment == 'N' or sentiment == 'N+':\n",
        "    return 'Negative'\n",
        "  if sentiment == 'NEU' or sentiment == 'NONE':\n",
        "    return 'Neutral'\n",
        "\n",
        "df['sentiment_cloud'] = df['sentiment_mc'].apply(lambda x: reduce_classify_sentiment(x))"
      ],
      "execution_count": null,
      "outputs": []
    },
    {
      "cell_type": "code",
      "metadata": {
        "id": "1aickNFJW3Ds"
      },
      "source": [
        "# Guardamos los datos con la polaridad previamente obtenida\n",
        "import csv\n",
        "df.to_csv('meaningCloudDataset1.csv', index=False)"
      ],
      "execution_count": null,
      "outputs": []
    },
    {
      "cell_type": "code",
      "metadata": {
        "colab": {
          "base_uri": "https://localhost:8080/"
        },
        "id": "8KEd96rZbMS2",
        "outputId": "cb3fe7ef-17d4-4c39-b9ec-d4cb802e66e4"
      },
      "source": [
        "# Opcional\n",
        "dcloud = pd.read_csv('2-meaningCloudDataset1.csv', encoding = \"utf-8\")\n",
        "print(dcloud.shape)"
      ],
      "execution_count": 119,
      "outputs": [
        {
          "output_type": "stream",
          "name": "stdout",
          "text": [
            "(2136, 15)\n"
          ]
        }
      ]
    },
    {
      "cell_type": "code",
      "metadata": {
        "id": "N8K-KmfscWHU"
      },
      "source": [
        "# Creamos un nueva columna con la misma clasificación \n",
        "def manual_classify_sentiment(sentiment):\n",
        "  if sentiment == 'pos':\n",
        "    return 'Positive'\n",
        "  if sentiment == 'neg':\n",
        "    return 'Negative'\n",
        "  if sentiment == 'neu':\n",
        "    return 'Neutral'\n",
        "\n",
        "dcloud['sentiment_manual'] = dcloud['sentiment'].apply(lambda x: manual_classify_sentiment(x))"
      ],
      "execution_count": 128,
      "outputs": []
    },
    {
      "cell_type": "code",
      "metadata": {
        "colab": {
          "base_uri": "https://localhost:8080/"
        },
        "id": "b1tN0PeOblsz",
        "outputId": "0b0bbbeb-546b-4061-bd8a-3129efe52ee8"
      },
      "source": [
        "print(\"Clasificación Cloud Service\")\n",
        "print(dcloud['sentiment_cloud'].value_counts())\n",
        "\n",
        "print(\"\\nClasificación Manual\")\n",
        "print(dcloud['sentiment_manual'].value_counts())"
      ],
      "execution_count": 129,
      "outputs": [
        {
          "output_type": "stream",
          "name": "stdout",
          "text": [
            "Clasificación Cloud Service\n",
            "Positive    937\n",
            "Negative    646\n",
            "Neutral     553\n",
            "Name: sentiment_cloud, dtype: int64\n",
            "\n",
            "Clasificación Manual\n",
            "Positive    859\n",
            "Negative    652\n",
            "Neutral     625\n",
            "Name: sentiment_manual, dtype: int64\n"
          ]
        }
      ]
    },
    {
      "cell_type": "code",
      "metadata": {
        "id": "LONrs7WLXIl4"
      },
      "source": [
        "# Medimos los resultados\n",
        "y_test = dcloud['sentiment_manual'].tolist() \n",
        "y_pred = dcloud['sentiment_cloud'].tolist()"
      ],
      "execution_count": 130,
      "outputs": []
    },
    {
      "cell_type": "code",
      "metadata": {
        "colab": {
          "base_uri": "https://localhost:8080/",
          "height": 301
        },
        "id": "_hcLnUSbXIqH",
        "outputId": "3308c0fb-a1ec-4ee7-9e7c-19beeef9f276"
      },
      "source": [
        "from sklearn.metrics import confusion_matrix,accuracy_score,classification_report\n",
        "import seaborn as sns\n",
        "\n",
        "print(accuracy_score(y_test, y_pred))\n",
        "sns.heatmap(confusion_matrix(y_test, y_pred), annot=True, fmt='.4g', )"
      ],
      "execution_count": 131,
      "outputs": [
        {
          "output_type": "stream",
          "name": "stdout",
          "text": [
            "0.8932584269662921\n"
          ]
        },
        {
          "output_type": "execute_result",
          "data": {
            "text/plain": [
              "<matplotlib.axes._subplots.AxesSubplot at 0x7fb28afb3590>"
            ]
          },
          "metadata": {},
          "execution_count": 131
        },
        {
          "output_type": "display_data",
          "data": {
            "image/png": "[encoded data removed]",
            "text/plain": [
              "<Figure size 432x288 with 2 Axes>"
            ]
          },
          "metadata": {
            "needs_background": "light"
          }
        }
      ]
    },
    {
      "cell_type": "code",
      "metadata": {
        "colab": {
          "base_uri": "https://localhost:8080/"
        },
        "id": "cBdjZZi2Ee2y",
        "outputId": "a45f5bb6-66ed-4b50-b06e-e0a6feb9d9b1"
      },
      "source": [
        "report2 = classification_report(y_test, y_pred, digits=4)\n",
        "\n",
        "print(report2)\n",
        "print(accuracy_score(y_test, y_pred))"
      ],
      "execution_count": 142,
      "outputs": [
        {
          "output_type": "stream",
          "name": "stdout",
          "text": [
            "              precision    recall  f1-score   support\n",
            "\n",
            "    Negative     0.9195    0.9110    0.9153       652\n",
            "     Neutral     0.8770    0.7760    0.8234       625\n",
            "    Positive     0.8847    0.9651    0.9232       859\n",
            "\n",
            "    accuracy                         0.8933      2136\n",
            "   macro avg     0.8938    0.8840    0.8873      2136\n",
            "weighted avg     0.8931    0.8933    0.8916      2136\n",
            "\n",
            "0.8932584269662921\n"
          ]
        }
      ]
    }
  ]
}